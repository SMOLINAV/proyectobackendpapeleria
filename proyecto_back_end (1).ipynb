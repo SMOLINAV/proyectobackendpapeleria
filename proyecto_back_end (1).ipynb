{
  "nbformat": 4,
  "nbformat_minor": 0,
  "metadata": {
    "colab": {
      "provenance": []
    },
    "kernelspec": {
      "name": "python3",
      "display_name": "Python 3"
    },
    "language_info": {
      "name": "python"
    }
  },
  "cells": [
    {
      "cell_type": "code",
      "source": [
        "# Instalar las librerías\n",
        "!pip install pycodestyle\n",
        "!pip install --index-url https://test.pypi.org/simple/ nbpep8"
      ],
      "metadata": {
        "colab": {
          "base_uri": "https://localhost:8080/"
        },
        "id": "yfCUUO_icg16",
        "outputId": "4ba2137d-381d-4346-e332-d939d2fc6f23"
      },
      "execution_count": null,
      "outputs": [
        {
          "output_type": "stream",
          "name": "stdout",
          "text": [
            "Collecting pycodestyle\n",
            "  Downloading pycodestyle-2.11.1-py2.py3-none-any.whl (31 kB)\n",
            "Installing collected packages: pycodestyle\n",
            "Successfully installed pycodestyle-2.11.1\n",
            "Looking in indexes: https://test.pypi.org/simple/\n",
            "Collecting nbpep8\n",
            "  Downloading https://test-files.pythonhosted.org/packages/c1/07/6b91c986efe7c3adac9e2ec061037f0cc4307925819d37277c3802c2d117/nbpep8-0.0.15-py3-none-any.whl (3.2 kB)\n",
            "Installing collected packages: nbpep8\n",
            "Successfully installed nbpep8-0.0.15\n"
          ]
        }
      ]
    },
    {
      "cell_type": "code",
      "source": [
        "from nbpep8.nbpep8 import pep8"
      ],
      "metadata": {
        "id": "y4ZlcfCtd9Gb"
      },
      "execution_count": null,
      "outputs": []
    },
    {
      "cell_type": "code",
      "execution_count": null,
      "metadata": {
        "id": "r3NpOvcccDYh"
      },
      "outputs": [],
      "source": [
        "from http.server import BaseHTTPRequestHandler, HTTPServer\n",
        "import json\n",
        "import urllib.parse\n",
        "\n",
        "# Datos de ejemplo de productos\n",
        "productos = [\n",
        "    {\"id\": 1, \"nombre\": \"Cuaderno\", \"precio\": 10.00},\n",
        "    {\"id\": 2, \"nombre\": \"Lápiz\", \"precio\": 0.80},\n",
        "    {\"id\": 3, \"nombre\": \"Borrador\", \"precio\": 1.00},\n",
        "    {\"id\": 4, \"nombre\": \"Tijeras\", \"precio\": 3.00},\n",
        "    {\"id\": 5, \"nombre\": \"Block tamaño carta\", \"precio\": 4.00},\n",
        "    {\"id\": 6, \"nombre\": \"Cartulina\", \"precio\": 1.00},\n",
        "    {\"id\": 7, \"nombre\": \"Diccionario\", \"precio\": 15.00},\n",
        "]\n",
        "\n",
        "\n",
        "class SimpleHTTPRequestHandler(BaseHTTPRequestHandler):\n",
        "    \"\"\"Clase para manejar las solicitudes HTTP entrantes.\"\"\"\n",
        "\n",
        "    def _set_headers(self, status_code=200, content_type='text/html'):\n",
        "        \"\"\"Establece las cabeceras de la respuesta HTTP.\"\"\"\n",
        "        self.send_response(status_code)\n",
        "        self.send_header('Content-type', content_type)\n",
        "        self.end_headers()\n",
        "\n",
        "    def do_GET(self):\n",
        "        \"\"\"Maneja las solicitudes GET.\"\"\"\n",
        "        if self.path == '/':\n",
        "            # Si la ruta es '/', devuelve un mensaje de saludo.\n",
        "            self._set_headers()\n",
        "            self.wfile.write(b'Hello, world!')\n",
        "        elif self.path == '/productos':\n",
        "            # Si la ruta es '/productos', devuelve la lista de productos en formato JSON.\n",
        "            self._set_headers(content_type='application/json')\n",
        "            self.wfile.write(json.dumps(productos).encode('utf-8'))\n",
        "        else:\n",
        "            # Si la ruta no se encuentra, devuelve un mensaje de error.\n",
        "            self._set_headers(status_code=404)\n",
        "            self.wfile.write(b'Not found')\n",
        "\n",
        "    def do_POST(self):\n",
        "        \"\"\"Maneja las solicitudes POST.\"\"\"\n",
        "        if self.path == '/productos':\n",
        "            # Si la ruta es '/productos', procesa la solicitud para agregar un nuevo producto.\n",
        "            content_length = int(self.headers['Content-Length'])\n",
        "            post_data = self.rfile.read(content_length)\n",
        "            post_data = post_data.decode('utf-8')\n",
        "            parsed_data = urllib.parse.parse_qs(post_data)\n",
        "            nuevo_producto = {\n",
        "                'nombre': parsed_data.get('nombre', [''])[0],\n",
        "                'precio': parsed_data.get('precio', [''])[0]\n",
        "            }\n",
        "            if nuevo_producto['nombre'] and nuevo_producto['precio']:\n",
        "                \"\"\" Si se proporcionan datos válidos para el nuevo producto,\n",
        "                lo agrega a la lista.\"\"\"\n",
        "                nuevo_producto['precio'] = float(nuevo_producto['precio'])\n",
        "                productos.append(nuevo_producto)\n",
        "                self._set_headers(status_code=201, content_type=\n",
        "                                  'application/json')\n",
        "                self.wfile.write(json.dumps({\"mensaje\":\n",
        "                            \"Producto agregado correctamente\"}).encode('utf-8'))\n",
        "            else:\n",
        "                # Si faltan datos o son incorrectos, devuelve un mensaje de error.\n",
        "                self._set_headers(status_code=400, content_type=\n",
        "                                  'application/json')\n",
        "                self.wfile.write(json.dumps({\"error\":\n",
        "                              \"Datos de producto incorrectos\"}).encode('utf-8'))\n",
        "        else:\n",
        "            # Si la ruta no se encuentra, devuelve un mensaje de error.\n",
        "            self._set_headers(status_code=404, content_type='application/json')\n",
        "            self.wfile.write(json.dumps({\"error\":\n",
        "                                         \"Ruta no encontrada\"}).encode('utf-8'))\n",
        "\n",
        "\n",
        "def run(server_class=HTTPServer, handler_class=SimpleHTTPRequestHandler,\n",
        "        port=8001):\n",
        "    \"\"\"Inicia el servidor HTTP.\"\"\"\n",
        "    server_address = ('', port)\n",
        "    httpd = server_class(server_address, handler_class)\n",
        "    print(f'Starting server on port {port}...')\n",
        "    httpd.serve_forever()\n",
        "\n",
        "\n",
        "if __name__ == '__main__':\n",
        "    run(port=8001)\n",
        "\n",
        "\n",
        "pep8(_ih)"
      ]
    }
  ]
}